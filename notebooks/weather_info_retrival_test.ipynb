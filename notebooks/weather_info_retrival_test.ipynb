{
 "cells": [
  {
   "cell_type": "markdown",
   "id": "d55f55ba",
   "metadata": {},
   "source": [
    "\n",
    "### Weather Tool Information Retrival"
   ]
  },
  {
   "cell_type": "code",
   "execution_count": null,
   "id": "c075bc53",
   "metadata": {},
   "outputs": [],
   "source": [
    "import sys\n",
    "import os\n",
    "import pandas as pd\n",
    "import matplotlib.pyplot as plt\n",
    "import seaborn as sns\n",
    "import datetime"
   ]
  },
  {
   "cell_type": "code",
   "execution_count": null,
   "id": "6e601913",
   "metadata": {},
   "outputs": [],
   "source": [
    "sys.path.append('../scripts')\n"
   ]
  },
  {
   "cell_type": "code",
   "execution_count": null,
   "id": "1f1c5d83",
   "metadata": {},
   "outputs": [],
   "source": [
    "# Configuración de estilo\n",
    "plt.style.use('ggplot')\n",
    "sns.set_palette(\"husl\")"
   ]
  },
  {
   "cell_type": "markdown",
   "id": "04db0b4c",
   "metadata": {},
   "source": [
    "\n",
    "#### OpenMeteo"
   ]
  },
  {
   "cell_type": "code",
   "execution_count": null,
   "id": "6970e787",
   "metadata": {},
   "outputs": [],
   "source": [
    "from weather_tools import WeatherDataFetcher"
   ]
  },
  {
   "cell_type": "code",
   "execution_count": null,
   "id": "484c2d9e",
   "metadata": {},
   "outputs": [],
   "source": [
    "fetcher = WeatherDataFetcher()\n",
    "\n",
    "print(\"Variables disponibles:\")\n",
    "print(fetcher.get_available_variables())"
   ]
  },
  {
   "cell_type": "code",
   "execution_count": null,
   "id": "a106ea59",
   "metadata": {},
   "outputs": [],
   "source": [
    "# Coordenadas de ejemplo (Buenos Aires)\n",
    "lat = -39.422539\n",
    "lon = -71.936493\n",
    "start_date = \"2024-12-01\"\n",
    "end_date = \"2025-03-10\"\n",
    "\n",
    "print(f\"Obteniendo datos para:\")\n",
    "print(f\"Coordenadas: ({lat}, {lon})\")\n",
    "print(f\"Período: {start_date} a {end_date}\")"
   ]
  },
  {
   "cell_type": "code",
   "execution_count": null,
   "id": "218e1b0c",
   "metadata": {},
   "outputs": [],
   "source": [
    "df_weather = fetcher.fetch_weather_data(lat, lon, start_date, end_date)\n",
    "\n",
    "fetcher.save_to_csv(df_weather, \"datos_clima_historico.csv\")\n",
    "\n",
    "# También guardar en data/processed\n",
    "processed_dir = \"../data/raw/open_meteo\"\n",
    "os.makedirs(processed_dir, exist_ok=True)\n",
    "df_weather.to_csv(f\"{processed_dir}/clima_procesado.csv\", index=False)\n",
    "\n",
    "print(\"💾 Datos guardados exitosamente!\")"
   ]
  },
  {
   "cell_type": "code",
   "execution_count": null,
   "id": "a2744226",
   "metadata": {},
   "outputs": [],
   "source": [
    "print(\"✅ Datos obtenidos exitosamente!\")\n",
    "print(f\"📊 Dimensiones: {df_weather.shape}\")\n",
    "print(f\"📋 Columnas: {list(df_weather.columns)}\")\n",
    "\n",
    "print(\"\\n📅 Rango temporal:\")\n",
    "print(f\"   Inicio: {df_weather['datetime'].min()}\")\n",
    "print(f\"   Fin: {df_weather['datetime'].max()}\")\n",
    "\n",
    "print(\"\\n🔍 Primeras filas:\")\n",
    "display(df_weather.head())\n",
    "\n",
    "print(\"\\n📈 Estadísticas descriptivas:\")\n",
    "display(df_weather.describe())"
   ]
  },
  {
   "cell_type": "code",
   "execution_count": null,
   "id": "fb8dbe70",
   "metadata": {},
   "outputs": [],
   "source": [
    "if not df_weather.empty:\n",
    "    # Copia + Filtro de Fecha\n",
    "    df_isolated = df_weather.copy()\n",
    "    df_isolated = df_isolated[df_isolated['date'] < datetime.date(2024, 12, 25)]\n",
    "\n",
    "    fig, axes = plt.subplots(3, 2, figsize=(15, 12))\n",
    "\n",
    "    # Temperatura\n",
    "    df_isolated.plot(x='datetime', y='temperature', ax=axes[0,0], title='Temperatura (°C)', color='red')\n",
    "    axes[0,0].set_ylabel('Temperatura (°C)')\n",
    "    \n",
    "    # Humedad\n",
    "    df_isolated.plot(x='datetime', y='humidity', ax=axes[0,1], title='Humedad Relativa (%)', color='blue')\n",
    "    axes[0,1].set_ylabel('Humedad (%)')\n",
    "    \n",
    "    # Precipitación\n",
    "    df_isolated.plot(x='datetime', y='precipitation', ax=axes[1,0], title='Precipitación (mm)', color='green')\n",
    "    axes[1,0].set_ylabel('Precipitación (mm)')\n",
    "    \n",
    "    # Velocidad del viento\n",
    "    df_isolated.plot(x='datetime', y='wind_speed', ax=axes[1,1], title='Velocidad del Viento (km/h)', color='orange')\n",
    "    axes[1,1].set_ylabel('Velocidad (km/h)')\n",
    "    \n",
    "    # Presión atmosférica\n",
    "    df_isolated.plot(x='datetime', y='pressure', ax=axes[2,0], title='Presión Atmosférica (hPa)', color='purple')\n",
    "    axes[2,0].set_ylabel('Presión (hPa)')\n",
    "    \n",
    "    # Cobertura de nubes\n",
    "    df_isolated.plot(x='datetime', y='cloud_cover', ax=axes[2,1], title='Cobertura de Nubes (%)', color='gray')\n",
    "    axes[2,1].set_ylabel('Cobertura (%)')\n",
    "    \n",
    "    plt.tight_layout()\n",
    "    plt.show()"
   ]
  },
  {
   "cell_type": "code",
   "execution_count": null,
   "id": "534c3d72",
   "metadata": {},
   "outputs": [],
   "source": [
    "print(\"📊 Resumen por día:\")\n",
    "df_daily = df_weather.groupby('date').agg({\n",
    "    'temperature': ['mean', 'min', 'max'],\n",
    "    'humidity': 'mean',\n",
    "    'pressure': 'mean',\n",
    "    'wind_speed': 'mean',\n",
    "    'precipitation': 'sum',\n",
    "    'rain': 'sum',\n",
    "    'snowfall': 'sum',\n",
    "    'sunshine_hours': 'sum'\n",
    "}).round(2)\n",
    "\n",
    "df_daily.columns = [\n",
    "    'temp_promedio', 'temp_min', 'temp_max', \n",
    "    'humedad_promedio', 'presion_promedio', \n",
    "    'viento_promedio', 'precipitacion_total',\n",
    "    'lluvia_total', 'nieve_total', 'horas_sol'\n",
    "]\n",
    "\n",
    "display(df_daily)"
   ]
  },
  {
   "cell_type": "code",
   "execution_count": null,
   "id": "64af232b",
   "metadata": {},
   "outputs": [],
   "source": [
    "print(\"🔗 Matriz de correlación:\")\n",
    "numeric_cols = ['temperature', 'humidity', 'pressure', 'wind_speed', 'precipitation']\n",
    "corr_matrix = df_weather[numeric_cols].corr()\n",
    "\n",
    "plt.figure(figsize=(10, 8))\n",
    "sns.heatmap(corr_matrix, annot=True, cmap='coolwarm', center=0, square=True)\n",
    "plt.title('Matriz de Correlación - Variables Meteorológicas')\n",
    "plt.tight_layout()\n",
    "plt.savefig('../docs/correlacion_clima.png', dpi=300, bbox_inches='tight')\n",
    "plt.show()"
   ]
  },
  {
   "cell_type": "markdown",
   "id": "907f747a",
   "metadata": {},
   "source": [
    "\n",
    "#### CDSAPI"
   ]
  },
  {
   "cell_type": "code",
   "execution_count": null,
   "id": "2aebb1d2",
   "metadata": {},
   "outputs": [],
   "source": [
    "import sys\n",
    "import os\n",
    "import pandas as pd\n",
    "import matplotlib.pyplot as plt\n",
    "import seaborn as sns"
   ]
  },
  {
   "cell_type": "code",
   "execution_count": null,
   "id": "3f405964",
   "metadata": {},
   "outputs": [],
   "source": [
    "# Agregar scripts al path\n",
    "sys.path.append('../scripts')\n",
    "\n",
    "# Configuración\n",
    "plt.style.use('ggplot')\n",
    "sns.set_palette(\"husl\")"
   ]
  },
  {
   "cell_type": "code",
   "execution_count": null,
   "id": "aed92d6b",
   "metadata": {},
   "outputs": [],
   "source": [
    "from cds_tools import CDSTools"
   ]
  },
  {
   "cell_type": "code",
   "execution_count": null,
   "id": "025e5ada",
   "metadata": {},
   "outputs": [],
   "source": [
    "# Obtener datos ERA5\n",
    "lat = -39.422539\n",
    "lon = -71.936493\n",
    "start_date = \"2024-12-01\"\n",
    "end_date = \"2024-12-01\"\n",
    "\n",
    "cds = CDSTools()\n",
    "\n",
    "# Obtener datos de temperatura\n",
    "df_temp = cds.get_climate_data('2m_temperature', start_date, end_date, lat, lon, radius = 0.5, format = 'netcdf')"
   ]
  },
  {
   "cell_type": "markdown",
   "id": "f2ce40a0",
   "metadata": {},
   "source": [
    "\n",
    "#### FIRMS"
   ]
  },
  {
   "cell_type": "code",
   "execution_count": null,
   "id": "3dd1c264",
   "metadata": {},
   "outputs": [],
   "source": [
    "from firms_tools import FIRMSTools\n",
    "from project_config import ProjectConfig\n",
    "\n",
    "# Inicializar herramientas\n",
    "config = ProjectConfig()\n",
    "firms = FIRMSTools(config)\n",
    "\n",
    "# Descargar datos\n",
    "print(\"Descargando datos de FIRMS...\")\n",
    "# raw_data = firms.download_fire_data(source='MODIS_SP')\n",
    "raw_data = firms.get_multisource_fire_data()\n",
    "\n",
    "# if raw_data is not None and not raw_data.empty:\n",
    "#     print(f\"✓ Datos descargados exitosamente: {len(raw_data)} registros\")\n",
    "#     print(f\"Columnas: {list(raw_data.columns)}\")\n",
    "    \n",
    "#     # Procesar datos\n",
    "#     processed_data = firms.process_fire_data(raw_data)\n",
    "#     print(f\"Datos procesados: {len(processed_data)} registros\")\n",
    "    \n",
    "#     # Mostrar información básica\n",
    "#     print(f\"\\n📊 Resumen de datos:\")\n",
    "#     print(f\"Rango temporal: {processed_data['acq_date'].min()} to {processed_data['acq_date'].max()}\")\n",
    "#     print(f\"Número de días con datos: {processed_data['acq_date'].nunique()}\")\n",
    "    \n",
    "#     if 'confidence' in processed_data.columns:\n",
    "#         print(f\"Distribución de confianza:\")\n",
    "#         print(processed_data['confidence'].value_counts())\n",
    "    \n",
    "#     # Visualización rápida\n",
    "#     fig, (ax1, ax2) = plt.subplots(1, 2, figsize=(15, 5))\n",
    "    \n",
    "#     # Distribución temporal\n",
    "#     daily_counts = processed_data['acq_date'].value_counts().sort_index()\n",
    "#     daily_counts.plot(ax=ax1, kind='bar', title='Detecciones por día')\n",
    "#     ax1.tick_params(axis='x', rotation=45)\n",
    "    \n",
    "#     # Mapa de detecciones\n",
    "#     geometry = [Point(xy) for xy in zip(processed_data.longitude, processed_data.latitude)]\n",
    "#     gdf = gpd.GeoDataFrame(processed_data, geometry=geometry, crs=\"EPSG:4326\")\n",
    "    \n",
    "#     # Cargar mapa base de Argentina\n",
    "#     world = gpd.read_file(\"https://naturalearth.s3.amazonaws.com/110m_cultural/ne_110m_admin_0_countries.zip\")\n",
    "#     argentina = world[world.NAME == 'Argentina']\n",
    "    \n",
    "#     argentina.plot(ax=ax2, color='lightgray', edgecolor='black')\n",
    "#     gdf.plot(ax=ax2, color='red', markersize=10, alpha=0.7, label='Detecciones')\n",
    "#     ax2.set_title('Ubicación de detecciones de incendios')\n",
    "#     ax2.legend()\n",
    "    \n",
    "#     plt.tight_layout()\n",
    "#     plt.show()\n",
    "# else:\n",
    "#     print(\"❌ No se pudieron obtener datos. Revisa los logs para más detalles.\")"
   ]
  },
  {
   "cell_type": "code",
   "execution_count": null,
   "id": "b3de95e0",
   "metadata": {},
   "outputs": [],
   "source": [
    "import logging\n",
    "from spatial_analysis import SpatialAnalysis\n",
    "from project_config import DATA_PROCESSED\n",
    "\n",
    "# Configuración\n",
    "logging.basicConfig(level=logging.INFO)\n",
    "plt.style.use('ggplot')\n",
    "\n",
    "# Cargar datos\n",
    "print(\"📊 Cargando datos de incendios...\")\n",
    "fire_data = pd.read_csv('../data/raw/firms/firms_MODIS_SP_2024-12-20_2024-12-29.csv')\n",
    "\n",
    "# Mostrar información básica\n",
    "print(f\"Total de detecciones: {len(fire_data)}\")\n",
    "print(f\"Rango temporal: {fire_data['acq_date'].min()} to {fire_data['acq_date'].max()}\")\n",
    "print(f\"Columnas disponibles: {list(fire_data.columns)}\")\n",
    "\n",
    "# Inicializar análisis espacial\n",
    "print(\"\\n🔍 Iniciando análisis espacial...\")\n",
    "spatial_analyzer = SpatialAnalysis(fire_data)\n",
    "\n",
    "# 1. Crear GeoDataFrame\n",
    "gdf = spatial_analyzer.create_geodataframe()\n",
    "print(f\"GeoDataFrame creado: {len(gdf)} features\")\n",
    "\n",
    "# 2. Calcular estadísticas básicas\n",
    "stats = spatial_analyzer.calculate_basic_stats()\n",
    "print(\"\\n📈 Estadísticas espaciales:\")\n",
    "for key, value in stats.items():\n",
    "    print(f\"{key}: {value}\")\n",
    "\n",
    "# 3. Visualización estática\n",
    "print(\"\\n🎨 Generando visualizaciones...\")\n",
    "spatial_analyzer.plot_spatial_distribution(save_path = '../docs/Entregas/spatial_analysis.png')\n",
    "\n",
    "# 4. Análisis de clusters\n",
    "print(\"\\n📊 Analizando clusters espaciales...\")\n",
    "cluster_stats = spatial_analyzer.cluster_analysis()\n",
    "print(\"Estadísticas por cluster:\")\n",
    "print(cluster_stats)\n",
    "\n",
    "# 5. Mapa interactivo (opcional - requiere folium)\n",
    "try:\n",
    "    print(\"\\n🌍 Creando mapa interactivo...\")\n",
    "    interactive_map = spatial_analyzer.plot_interactive_map(save_path='../docs/Entregas/interactive_map.html')\n",
    "    print(\"Mapa interactivo guardado como 'interactive_map.html'\")\n",
    "except ImportError:\n",
    "    print(\"Folium no instalado. Instala con: pip install folium\")\n",
    "\n",
    "# 6. Exportar resultados\n",
    "print(\"\\n💾 Exportando resultados...\")\n",
    "spatial_analyzer.export_results(DATA_PROCESSED)\n",
    "print(\"Análisis completado! ✅\")\n",
    "\n",
    "# Análisis adicional por día/noche\n",
    "print(\"\\n🌙 Análisis día vs noche:\")\n",
    "day_night_stats = gdf.groupby('daynight').agg({\n",
    "    'frp': ['mean', 'sum', 'count'],\n",
    "    'confidence': 'mean',\n",
    "    'brightness': 'mean'\n",
    "}).round(2)\n",
    "print(day_night_stats)\n",
    "\n",
    "# Análisis por satélite\n",
    "print(\"\\n🛰️ Análisis por satélite:\")\n",
    "satellite_stats = gdf.groupby('satellite').agg({\n",
    "    'frp': ['mean', 'sum', 'count'],\n",
    "    'confidence': 'mean'\n",
    "}).round(2)\n",
    "print(satellite_stats)"
   ]
  }
 ],
 "metadata": {
  "kernelspec": {
   "display_name": "Python 3",
   "language": "python",
   "name": "python3"
  },
  "language_info": {
   "codemirror_mode": {
    "name": "ipython",
    "version": 3
   },
   "file_extension": ".py",
   "mimetype": "text/x-python",
   "name": "python",
   "nbconvert_exporter": "python",
   "pygments_lexer": "ipython3",
   "version": "3.13.5"
  }
 },
 "nbformat": 4,
 "nbformat_minor": 5
}
