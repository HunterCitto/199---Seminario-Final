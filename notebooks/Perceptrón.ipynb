{
 "cells": [
  {
   "cell_type": "markdown",
   "id": "3f3683ed",
   "metadata": {},
   "source": [
    "\n",
    "# Perceptrón Simple"
   ]
  },
  {
   "cell_type": "code",
   "execution_count": null,
   "id": "179c7709",
   "metadata": {},
   "outputs": [],
   "source": [
    "import sys\n",
    "import numpy as np\n",
    "\n",
    "sys.path.append('../scripts')\n",
    "\n",
    "from utils import linear_sep_data\n",
    "from perceptron import Perceptron"
   ]
  },
  {
   "cell_type": "code",
   "execution_count": null,
   "id": "0495cbd0",
   "metadata": {},
   "outputs": [],
   "source": [
    "n = 750\n",
    "p = 7\n",
    "\n",
    "x, y = linear_sep_data(n, p)\n",
    "\n",
    "random_seeds = [1, 42, 42, 100, 2024]\n",
    "\n",
    "for seed in random_seeds:\n",
    "    np.random.seed(seed)\n",
    "    perceptron = Perceptron(input_size = p, learning_rate = 0.1)\n",
    "    print(f\"Seed: {seed}, convergence epoch: {perceptron.train(x, y, epochs = 1000, verbose =False)}\")"
   ]
  }
 ],
 "metadata": {
  "kernelspec": {
   "display_name": "Python 3",
   "language": "python",
   "name": "python3"
  },
  "language_info": {
   "codemirror_mode": {
    "name": "ipython",
    "version": 3
   },
   "file_extension": ".py",
   "mimetype": "text/x-python",
   "name": "python",
   "nbconvert_exporter": "python",
   "pygments_lexer": "ipython3",
   "version": "3.13.5"
  }
 },
 "nbformat": 4,
 "nbformat_minor": 5
}
